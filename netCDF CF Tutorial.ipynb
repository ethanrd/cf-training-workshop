{
 "cells": [
  {
   "cell_type": "markdown",
   "metadata": {},
   "source": [
    "# Getting Started\n",
    "\n",
    "## Gridded Data\n",
    "Let's say we're working with some numerical weather forecast model output. Let's walk through the steps necessary to store this data in netCDF, using the Climate and Forecasting metadata conventions to ensure that our data are available to as many tools as possible.\n",
    "\n",
    "To start, let's assume the following about our data:\n",
    "* It corresponds to forecast three dimensional temperature at several times\n",
    "* The native coordinate system of the model is on a regular grid that represents the Earth on a Lambert conformal projection.\n",
    "\n",
    "We'll also go ahead and generate some arrays of data below to get started:"
   ]
  },
  {
   "cell_type": "code",
   "execution_count": 1,
   "metadata": {},
   "outputs": [],
   "source": [
    "# Import some useful Python tools\n",
    "from datetime import datetime, timedelta\n",
    "\n",
    "import numpy as np\n",
    "\n",
    "# Twelve hours of hourly output starting at 22Z today\n",
    "start = datetime.utcnow().replace(hour=22, minute=0, second=0, microsecond=0)\n",
    "times = np.array([start + timedelta(hours=h) for h in range(13)])\n",
    "\n",
    "# 3km spacing in x and y\n",
    "x = np.arange(-150, 153, 3)\n",
    "y = np.arange(-100, 100, 3)\n",
    "\n",
    "# Standard pressure levels in hPa\n",
    "press = np.array([1000, 925, 850, 700, 500, 300, 250])\n",
    "\n",
    "temps = np.random.randn(times.size, press.size, y.size, x.size)"
   ]
  },
  {
   "cell_type": "markdown",
   "metadata": {},
   "source": [
    "### Creating the file and dimensions\n",
    "\n",
    "The first step is to create a new file and set up the shared dimensions we'll be using in the file. We'll be using the netCDF4-python library to do all of the requisite netCDF API calls."
   ]
  },
  {
   "cell_type": "code",
   "execution_count": 2,
   "metadata": {},
   "outputs": [],
   "source": [
    "from netCDF4 import Dataset\n",
    "nc = Dataset('forecast_model.nc', 'w', format='NETCDF4_CLASSIC', diskless=True)"
   ]
  },
  {
   "cell_type": "code",
   "execution_count": 3,
   "metadata": {},
   "outputs": [],
   "source": [
    "nc.Conventions = 'CF-1.7'\n",
    "nc.title = 'Forecast model run'\n",
    "nc.institution = 'Unidata'\n",
    "nc.source = 'WRF-1.5'\n",
    "nc.history = str(datetime.utcnow()) + ' Python'\n",
    "nc.references = ''\n",
    "nc.comment = ''"
   ]
  },
  {
   "cell_type": "code",
   "execution_count": 4,
   "metadata": {},
   "outputs": [
    {
     "data": {
      "text/plain": [
       "<class 'netCDF4._netCDF4.Dataset'>\n",
       "root group (NETCDF4_CLASSIC data model, file format HDF5):\n",
       "    Conventions: CF-1.7\n",
       "    title: Forecast model run\n",
       "    institution: Unidata\n",
       "    source: WRF-1.5\n",
       "    history: 2019-07-14 16:37:12.649013 Python\n",
       "    references: \n",
       "    comment: \n",
       "    dimensions(sizes): forecast_time(0), x(101), y(67), pressure(7)\n",
       "    variables(dimensions): \n",
       "    groups: "
      ]
     },
     "execution_count": 4,
     "metadata": {},
     "output_type": "execute_result"
    }
   ],
   "source": [
    "nc.createDimension('forecast_time', None)\n",
    "nc.createDimension('x', x.size)\n",
    "nc.createDimension('y', y.size)\n",
    "nc.createDimension('pressure', press.size)\n",
    "nc"
   ]
  },
  {
   "cell_type": "markdown",
   "metadata": {},
   "source": [
    "### Writing the data field"
   ]
  },
  {
   "cell_type": "code",
   "execution_count": 5,
   "metadata": {},
   "outputs": [],
   "source": [
    "temps_var = nc.createVariable('Temperature', datatype=np.float32,\n",
    "                              dimensions=('forecast_time', 'pressure', 'y', 'x'),\n",
    "                              zlib=True)"
   ]
  },
  {
   "cell_type": "code",
   "execution_count": 6,
   "metadata": {},
   "outputs": [
    {
     "data": {
      "text/plain": [
       "<class 'netCDF4._netCDF4.Variable'>\n",
       "float32 Temperature(forecast_time, pressure, y, x)\n",
       "unlimited dimensions: forecast_time\n",
       "current shape = (13, 7, 67, 101)\n",
       "filling on, default _FillValue of 9.969209968386869e+36 used"
      ]
     },
     "execution_count": 6,
     "metadata": {},
     "output_type": "execute_result"
    }
   ],
   "source": [
    "temps_var[:] = temps\n",
    "temps_var"
   ]
  },
  {
   "cell_type": "markdown",
   "metadata": {},
   "source": [
    "Add attribute metadata. Could also add `missing_value` if relevant"
   ]
  },
  {
   "cell_type": "code",
   "execution_count": 7,
   "metadata": {},
   "outputs": [
    {
     "data": {
      "text/plain": [
       "<class 'netCDF4._netCDF4.Variable'>\n",
       "float32 Temperature(forecast_time, pressure, y, x)\n",
       "    units: Kelvin\n",
       "    standard_name: air_temperature\n",
       "    long_name: Forecast air temperature\n",
       "unlimited dimensions: forecast_time\n",
       "current shape = (13, 7, 67, 101)\n",
       "filling on, default _FillValue of 9.969209968386869e+36 used"
      ]
     },
     "execution_count": 7,
     "metadata": {},
     "output_type": "execute_result"
    }
   ],
   "source": [
    "temps_var.units = 'Kelvin'\n",
    "temps_var.standard_name = 'air_temperature'\n",
    "temps_var.long_name = 'Forecast air temperature'\n",
    "temps_var"
   ]
  },
  {
   "cell_type": "markdown",
   "metadata": {},
   "source": [
    "### Coordinate variables"
   ]
  },
  {
   "cell_type": "code",
   "execution_count": 8,
   "metadata": {},
   "outputs": [],
   "source": [
    "x_var = nc.createVariable('x', np.float32, ('x',))\n",
    "x_var[:] = x\n",
    "x_var.units = 'km'\n",
    "x_var.axis = 'X' # Optional\n",
    "x_var.standard_name = 'projection_x_coordinate'\n",
    "x_var.long_name = 'x-coordinate in projected cooridnate system'\n",
    "\n",
    "y_var = nc.createVariable('y', np.float32, ('y',))\n",
    "y_var[:] = y\n",
    "y_var.units = 'km'\n",
    "y_var.axis = 'Y' # Optional\n",
    "y_var.standard_name = 'projection_y_coordinate'\n",
    "y_var.long_name = 'y-coordinate in projected cooridnate system'"
   ]
  },
  {
   "cell_type": "code",
   "execution_count": 9,
   "metadata": {},
   "outputs": [],
   "source": [
    "press_var = nc.createVariable('pressure', np.float32, ('pressure',))\n",
    "press_var[:] = press\n",
    "press_var.units = 'hPa'\n",
    "press_var.standard_name = 'air_pressure'\n",
    "press_var.positive = 'down'  # Optional"
   ]
  },
  {
   "cell_type": "code",
   "execution_count": 10,
   "metadata": {},
   "outputs": [],
   "source": [
    "from cftime import date2num\n",
    "time_units = 'hours since {:%Y-%m-%d 00:00}'.format(times[0])\n",
    "time_vals = date2num(times, time_units)\n",
    "\n",
    "time_var = nc.createVariable('forecast_time', np.int32, ('forecast_time',))\n",
    "time_var[:] = time_vals\n",
    "time_var.units = time_units\n",
    "time_var.axis = 'T'  # Optional\n",
    "time_var.standard_name = 'time'  # Optional\n",
    "time_var.long_name = 'time'"
   ]
  },
  {
   "cell_type": "markdown",
   "metadata": {},
   "source": [
    "### Coordinate System Information"
   ]
  },
  {
   "cell_type": "code",
   "execution_count": 11,
   "metadata": {},
   "outputs": [
    {
     "data": {
      "text/plain": [
       "<class 'netCDF4._netCDF4.Variable'>\n",
       "int32 lambert_projection()\n",
       "    grid_mapping_name: lambert_conformal_conic\n",
       "    standard_parallel: 25.0\n",
       "    latitude_of_projection_origin: 40.0\n",
       "    longitude_of_central_meridian: -105.0\n",
       "    semi_major_axis: 6371000.0\n",
       "unlimited dimensions: \n",
       "current shape = ()\n",
       "filling on, default _FillValue of -2147483647 used"
      ]
     },
     "execution_count": 11,
     "metadata": {},
     "output_type": "execute_result"
    }
   ],
   "source": [
    "proj_var = nc.createVariable('lambert_projection', np.int32, ())\n",
    "proj_var.grid_mapping_name = 'lambert_conformal_conic'\n",
    "proj_var.standard_parallel = 25.\n",
    "proj_var.latitude_of_projection_origin = 40.\n",
    "proj_var.longitude_of_central_meridian = -105.\n",
    "proj_var.semi_major_axis = 6371000.0\n",
    "proj_var"
   ]
  },
  {
   "cell_type": "code",
   "execution_count": 12,
   "metadata": {},
   "outputs": [],
   "source": [
    "temps_var.grid_mapping = 'lambert_projection'  # or proj_var.name"
   ]
  },
  {
   "cell_type": "markdown",
   "metadata": {},
   "source": [
    "### Auxiliary Coordinates"
   ]
  },
  {
   "cell_type": "code",
   "execution_count": 13,
   "metadata": {},
   "outputs": [],
   "source": [
    "from pyproj import Proj\n",
    "X, Y = np.meshgrid(x, y)\n",
    "lcc = Proj({'proj':'lcc', 'lon_0':-105, 'lat_0':40, 'a':6371000., 'lat_1':25})\n",
    "lon, lat = lcc(X * 1000, Y * 1000, inverse=True)"
   ]
  },
  {
   "cell_type": "code",
   "execution_count": 14,
   "metadata": {},
   "outputs": [],
   "source": [
    "lon_var = nc.createVariable('lon', np.float32, ('y', 'x'))\n",
    "lon_var[:] = lon\n",
    "lon_var.units = 'degrees_east'\n",
    "lon_var.standard_name = 'longitude'  # Optional\n",
    "lon_var.long_name = 'longitude'\n",
    "\n",
    "lat_var = nc.createVariable('lat', np.float32, ('y', 'x'))\n",
    "lat_var[:] = lat\n",
    "lat_var.units = 'degrees_north'\n",
    "lat_var.standard_naem = 'latitude'  # Optional\n",
    "lat_var.long_name = 'latitude'"
   ]
  },
  {
   "cell_type": "code",
   "execution_count": 15,
   "metadata": {},
   "outputs": [],
   "source": [
    "temps_var.coordinates = 'lon lat'"
   ]
  },
  {
   "cell_type": "markdown",
   "metadata": {},
   "source": [
    "### Exercise\n",
    "1. Create another 3D variable representing geopotential height\n",
    "2. Createa another variable for surface precipitation"
   ]
  },
  {
   "cell_type": "markdown",
   "metadata": {},
   "source": [
    "### Benefits\n",
    "Demo with xarray/metpy quickly plotting data"
   ]
  }
 ],
 "metadata": {
  "kernelspec": {
   "display_name": "py37",
   "language": "python",
   "name": "conda-env-py37-py"
  },
  "language_info": {
   "codemirror_mode": {
    "name": "ipython",
    "version": 3
   },
   "file_extension": ".py",
   "mimetype": "text/x-python",
   "name": "python",
   "nbconvert_exporter": "python",
   "pygments_lexer": "ipython3",
   "version": "3.7.3"
  }
 },
 "nbformat": 4,
 "nbformat_minor": 4
}
