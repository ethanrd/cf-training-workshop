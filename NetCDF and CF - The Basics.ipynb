{
 "cells": [
  {
   "cell_type": "markdown",
   "metadata": {},
   "source": [
    "# NetCDF and CF: The Basics\n",
    "\n"
   ]
  },
  {
   "cell_type": "markdown",
   "metadata": {},
   "source": [
    "### Abstract and other notes \n",
    "This workshop will teach some of the basics of CF metadata for netCDF data files\n",
    "with some hands-on work available in Jupyter Notebooks using Python. Along with\n",
    "introduction to netCDF and CF, we will introduce the CF data model and discuss\n",
    "some netCDF implementation details to consider when deciding how to write data\n",
    "with CF and netCDF. We will cover gridded data as well as in situ data\n",
    "(stations, soundings, etc.) and touch on storing geometries data in CF.\n",
    "\n",
    "Assume: Basic understanding of netCDF and CF (what they are and how they work\n",
    "together?)\n",
    "\n",
    "Target Audience: Data producer or manager\n",
    "- Have data they want to (or have been told they should) write to CF compliant\n",
    "  netCDF files"
   ]
  },
  {
   "cell_type": "markdown",
   "metadata": {},
   "source": [
    "### Some References\n",
    "\n",
    "- See CF Conventions doc ([1.7](http://cfconventions.org/Data/cf-conventions/cf-conventions-1.7/cf-conventions.html))\n",
    "- See Jonathan Gregory's old [CF presentation](http://cfconventions.org/Data/cf-documents/overview/viewgraphs.pdf)\n",
    "- See [CF presentation](https://docs.google.com/presentation/d/1OImxWBNxyj-zdreIarH5GSIuDyREGB62rDah19g6M94/edit#) I gave at Oct 2018 nc training workshop\n",
    "- See  NASA ESDS “Dataset Interoperability Recommendations for Earth Science” ([web page](https://earthdata.nasa.gov/user-resources/standards-and-references/dataset-interoperability-recommendations-for-earth-science))\n",
    "- See CF Data Model (cfdm) python package [tutorial](https://ncas-cms.github.io/cfdm/tutorial.html)\n",
    "- See Tim Whiteaker's cfgeom python package (GitHub [repo](https://github.com/twhiteaker/CFGeom))([tutorial]( https://twhiteaker.github.io/CFGeom/tutorial.html))"
   ]
  },
  {
   "cell_type": "markdown",
   "metadata": {},
   "source": [
    "## Overview of netCDF and CF\n",
    "\n",
    "\n",
    "\n",
    "### netCDF Data Model\n",
    "\n",
    "### CF Data Model\n"
   ]
  },
  {
   "cell_type": "markdown",
   "metadata": {},
   "source": [
    "## Gridded Data\n",
    "### Basic gridded data\n",
    "Lets start out with two 3-D arrays of temperature and dew point temperature\n",
    "```\n",
    "netcdf twoarrays {\n",
    "  dimensions:\n",
    "      lat = 12 ;\n",
    "      lon = 19 ;\n",
    "      time = 4 ;\n",
    "  variables:\n",
    "      float temp(time, lat, lon) ;\n",
    "      float dewpoint(time, lat, lon) ;\n",
    "}\n",
    "```"
   ]
  },
  {
   "cell_type": "code",
   "execution_count": null,
   "metadata": {},
   "outputs": [],
   "source": []
  },
  {
   "cell_type": "markdown",
   "metadata": {},
   "source": [
    "### Describe the data\n",
    "\n",
    "The 'units' attribute should be used for all variables that represent a\n",
    "dimensional quantity. With only a few exceptions, the value of the `units`\n",
    "attribute must be recognizable by the Unidata Udunits package.\n",
    "\n",
    "CF standard names are used to describe the physical quantity a variable\n",
    "represents. The `standard_name` attribute should be used for all data variables,\n",
    "whenever possible. The `units` attribute must be consistent with (or convertable\n",
    "to) the canonical units of the given standard name (and any modifier).\n",
    "\n",
    "missing and valid ...\n",
    "\n",
    "```\n",
    "netcdf twoarrays {\n",
    "  dimensions:\n",
    "      lat = 12 ;\n",
    "      lon = 19 ;\n",
    "      time = 4 ;\n",
    "  variables:\n",
    "      float temp(time, lat, lon) ;\n",
    "        temp:units = \"Celsius\" ;\n",
    "        temp:standard_name = \"surface_temperature\" ;\n",
    "      float dewpoint(time, lat, lon) ;\n",
    "        dewpoint:units = \"Celsius\" ;\n",
    "        dewpoint:standard_name = \"dew_point_temperature\" ;\n",
    "}\n",
    "```"
   ]
  },
  {
   "cell_type": "code",
   "execution_count": null,
   "metadata": {},
   "outputs": [],
   "source": []
  },
  {
   "cell_type": "markdown",
   "metadata": {},
   "source": [
    "### NUG Coordinate Variables\n",
    "The Unidata NUG defines coordinate variables as a 1-D variable that has the same\n",
    "name as a dimension. These variables define the physical coordinate\n",
    "corresponding to the dimension. Many generic software packages understand how to\n",
    "use NUG coordinate variables.\n",
    "\n",
    "```\n",
    "netcdf twoarrays_coordvars {\n",
    "  dimensions:\n",
    "      lat = 12 ;\n",
    "      lon = 19 ;\n",
    "      time = 4 ;\n",
    "  variables:\n",
    "      float lat(lat) ;\n",
    "      float lon(lon) ;\n",
    "      float time(tim) ;\n",
    "      float temp(time, lat, lon) ;\n",
    "        temp:units = \"Celsius\" ;\n",
    "        temp:standard_name = \"surface_temperature\" ;\n",
    "      float dewpoint(time, lat, lon) ;\n",
    "        dewpoint:units = \"Celsius\" ;\n",
    "        dewpoint:standard_name = \"dew_point_temperature\" ;\n",
    "}\n",
    "```"
   ]
  },
  {
   "cell_type": "code",
   "execution_count": null,
   "metadata": {},
   "outputs": [],
   "source": []
  },
  {
   "cell_type": "markdown",
   "metadata": {},
   "source": [
    "### CF coordinate variables\n",
    "\n",
    "#### Latitude, Longitude, and Vertical\n",
    "\n",
    "For latitude, include units attribute with a 'degrees_north' value.\n",
    "```\n",
    "float lat(lat) ;\n",
    "  lat:long_name = \"latitude\" ;\n",
    "  lat:units = \"degrees_north\" ;\n",
    "  lat:standard_name = \"latitude\" ;\n",
    "```\n",
    "\n",
    "For longitude, a units attribute must be included with a 'degrees_east' value. A\n",
    "standard name of 'longitude' is another mechanism for recognizing longitude.\n",
    "\n",
    "```\n",
    "float lon(lon) ;\n",
    "  lon:long_name = \"longitude\" ;\n",
    "  lon:units = \"degrees_east\" ;\n",
    "  lon:standard_name = \"longitude\" ;\n",
    "```\n",
    "A vertical coordinate can be recognized by its units and the 'positive'\n",
    "attribute with value of 'up' or 'down'.\n",
    "\n",
    "Height, depth\n",
    "```\n",
    "axis_name:units = \"meters\" ;\n",
    "axis_name:positive = \"down\" ;\n",
    "```\n",
    "Pressure\n",
    "```\n",
    "float pres(pres) ;\n",
    "  pres:long_name = \"pressure\" ;\n",
    "  pres:units = \"hPa\" ;\n",
    "```\n",
    "\n",
    "#### Time\n",
    "\n",
    "Time coordinates must include a 'units' attribute with a string value with a\n",
    "form similar to\n",
    "    'seconds since 2019-01-06 12:00:00.00'\n",
    "\n",
    "'seconds', 'minutes', 'hours', and 'days' are the most commonly used units for\n",
    "time. Due to the variable length of months and years, they are not recommended.\n",
    "\n",
    "#### Example\n",
    "\n",
    "```\n",
    "netcdf   mydataset {\n",
    "  dimensions:\n",
    "    lat = 12 ;\n",
    "    lon = 19 ;\n",
    "    time = 4 ;\n",
    "  variables:\n",
    "    float lat(lat) ;\n",
    "      lat:units = \"degrees_north\" ;\n",
    "      lat:standard_name = \"latitude\" ;\n",
    "    float lon(lon) ;\n",
    "      lon:units = \"degrees_east\" ;\n",
    "      lon:standard_name = \"longitude\" ;\n",
    "    float time(time) ;\n",
    "      time:units = \"seconds since 2019-01-06 12:00:00.00\";\n",
    "    float temp(time, lat, lon) ;\n",
    "      temp:units = \"Celsius\" ;\n",
    "      temp:standard_name = \"surface_temperature\" ;\n",
    "    float dewpoint(time, lat, lon) ;\n",
    "      dewpoint:units = \"Celsius\" ;\n",
    "      dewpoint:standard_name = \"dew_point_temperature\" ;\n",
    "  attributes:\n",
    "    :Conventions = \"CF-1.7\";\n",
    "}\n",
    "\n",
    "```"
   ]
  },
  {
   "cell_type": "code",
   "execution_count": null,
   "metadata": {},
   "outputs": [],
   "source": []
  },
  {
   "cell_type": "markdown",
   "metadata": {},
   "source": [
    "### Direct axis identification\n",
    "\n",
    "The 'axis' attribute can be used with a value of 'X', 'Y', 'Z', and 'T' to\n",
    "simplify identification of space and time coordinates and to identify generic\n",
    "spatial coordinates, e.g., a projected coordinate system.\n",
    "\n",
    "```\n",
    "netcdf   mydataset {\n",
    "  dimensions:\n",
    "    x = 12 ;\n",
    "    y = 19 ;\n",
    "    time = 4 ;\n",
    "  variables:\n",
    "    float x(x) ;\n",
    "      x:units = \"m\" ;\n",
    "      x:axis = \"X\" ;\n",
    "    float y(y) ;\n",
    "      y:units = \"m\" ;\n",
    "      y:axis = \"Y\" ;\n",
    "    float time(time) ;\n",
    "      time:units = \"seconds since 2019-01-06 12:00:00.00\";\n",
    "      time:axis = \"T\" ;\n",
    "    float temp(time, x, y) ;\n",
    "      temp:units = \"Celsius\" ;\n",
    "      temp:standard_name = \"surface_temperature\" ;\n",
    "    float dewpoint(time, lat, lon) ;\n",
    "      dewpoint:units = \"Celsius\" ;\n",
    "      dewpoint:standard_name = \"dew_point_temperature\" ;\n",
    "  attributes:\n",
    "    :Conventions = \"CF-1.7\";\n",
    "}\n",
    "\n",
    "```"
   ]
  },
  {
   "cell_type": "code",
   "execution_count": null,
   "metadata": {},
   "outputs": [],
   "source": []
  },
  {
   "cell_type": "markdown",
   "metadata": {},
   "source": [
    "\n"
   ]
  },
  {
   "cell_type": "markdown",
   "metadata": {},
   "source": [
    "### Grid Mapping\n",
    "\n",
    "\n",
    "For a dataset with 1-D X and Y coordinate variables, the 2-D latitude and\n",
    "longitude coordinates may be indicated with the `coordinates` attribute.\n",
    "To describe the mapping between the X and Y coordinate variables and the\n",
    "latitude and longitude coordinates, a `grid mpping` variable must be used.\n",
    "\n",
    "For instance, here's a temperature field whose X and Y coordinate variables map\n",
    "to latitude and longitude using a Lambert Conformal projection. \n",
    " \n",
    "```\n",
    "dimensions:\n",
    "  y = 228;\n",
    "  x = 306;\n",
    "  time = 41;\n",
    "\n",
    "variables:\n",
    "  int Lambert_Conformal;\n",
    "    Lambert_Conformal:grid_mapping_name = \"lambert_conformal_conic\";\n",
    "    Lambert_Conformal:standard_parallel = 25.0;\n",
    "    Lambert_Conformal:longitude_of_central_meridian = 265.0;\n",
    "    Lambert_Conformal:latitude_of_projection_origin = 25.0;\n",
    "  double y(y);\n",
    "    y:units = \"km\";\n",
    "    y:long_name = \"y coordinate of projection\";\n",
    "    y:standard_name = \"projection_y_coordinate\";\n",
    "  double x(x);\n",
    "    x:units = \"km\";\n",
    "    x:long_name = \"x coordinate of projection\";\n",
    "    x:standard_name = \"projection_x_coordinate\";\n",
    "  double lat(y, x);\n",
    "    lat:units = \"degrees_north\";\n",
    "    lat:long_name = \"latitude coordinate\";\n",
    "    lat:standard_name = \"latitude\";\n",
    "  double lon(y, x);\n",
    "    lon:units = \"degrees_east\";\n",
    "    lon:long_name = \"longitude coordinate\";\n",
    "    lon:standard_name = \"longitude\";\n",
    "  int time(time);\n",
    "    time:long_name = \"forecast time\";\n",
    "    time:units = \"hours since 2004-06-23T22:00:00Z\";\n",
    "  float Temperature(time, y, x);\n",
    "    Temperature:units = \"K\";\n",
    "    Temperature:long_name = \"Temperature @ surface\";\n",
    "    Temperature:missing_value = 9999.0;\n",
    "    Temperature:coordinates = \"lat lon\";\n",
    "    Temperature:grid_mapping = \"Lambert_Conformal\";\n",
    "```\n",
    "\n",
    "A `grid mapping` variable may also be used to describe the figure of the Earth\n",
    "used to define the latitude and longitude coordinates, or to describe\n",
    "another coordinate reference system definition used by some coordinates\n",
    "or auxiliary coordinates."
   ]
  },
  {
   "cell_type": "code",
   "execution_count": null,
   "metadata": {},
   "outputs": [],
   "source": []
  },
  {
   "cell_type": "markdown",
   "metadata": {},
   "source": [
    "### Cell Bounds\n",
    "\n",
    "  - an example\n",
    "  \n",
    "```\n",
    "netcdf precip_bucket_bounds {\n",
    "  dimensions:\n",
    "      lat = 12 ;\n",
    "      lon = 19 ;\n",
    "      time = 8 ;\n",
    "      tbv = 2;\n",
    "  variables:\n",
    "      float lat(lat) ;\n",
    "      float lon(lon) ;\n",
    "      float time(time) ;\n",
    "        time:units = \"hours since 2019-07-12 00:00:00.00\";\n",
    "        time:bounds = \"time_bounds\" ;\n",
    "      float time_bounds(time,tbv)\n",
    "      float precip(time, lat, lon) ;\n",
    "        precip:units = \"inches\" ;\n",
    "  data:\n",
    "    time = 3, 6, 9, 12, 15, 18, 21, 24;\n",
    "    time_bounds = 0, 3, 0, 6, 6, 9, 6, 12, 12, 15, 12, 18, 18, 21, 18, 24;\n",
    "}\n",
    "\n",
    "```\n"
   ]
  },
  {
   "cell_type": "code",
   "execution_count": null,
   "metadata": {},
   "outputs": [],
   "source": []
  },
  {
   "cell_type": "markdown",
   "metadata": {},
   "source": [
    "## Observational data (CF DSG)\n",
    "- Overview of Point, station, sounding, trajectory\n",
    "- Examples\n",
    "- Reference to [NOAA NCEI netCDF Templates](https://www.nodc.noaa.gov/data/formats/netcdf/v2.0/)\n"
   ]
  },
  {
   "cell_type": "markdown",
   "metadata": {},
   "source": [
    "## Geometries\n",
    "\n",
    "- Overview\n",
    "- Example\n",
    "- Link to cfgeom python package\n"
   ]
  },
  {
   "cell_type": "markdown",
   "metadata": {},
   "source": [
    "## CF Standard Names\n",
    "- Overview:\n",
    "  - Controlled vocabulary of names that describe physical quantity\n",
    "    - (name, description, canonical units)\n",
    "  - Canonical units (units used must be convertable to)\n",
    "  - Help users to decide if data from two sources are comparable\n",
    "    "
   ]
  },
  {
   "cell_type": "markdown",
   "metadata": {},
   "source": [
    "## Other topics\n",
    "- Missing data\n",
    "  - _FillValue, missing_data, valid_*\n",
    "- Packed data (scale_factor/add_offset)\n",
    "- Chunking and compression\n",
    "- CRS, shape of earth, horizontal and vertial datum\n",
    "\n",
    "### Cell methods\n",
    "  - an example\n",
    "- ??\"climatology\" attribute??s\n"
   ]
  },
  {
   "cell_type": "markdown",
   "metadata": {},
   "source": [
    "## Recommendations from NASA \n",
    "- [NASA Dataset Interoperability Recommendations for Earth Science](https://earthdata.nasa.gov/esdis/eso/standards-and-references/dataset-interoperability-recommendations-for-earth-science) - two PDF documents.\n",
    "- NASA Data Prodcut Developer's Guide (from the [previous session](https://2019esipsummermeeting.sched.com/event/PtOg/data-product-developers-guide-workshop))\n"
   ]
  },
  {
   "cell_type": "code",
   "execution_count": null,
   "metadata": {},
   "outputs": [],
   "source": []
  }
 ],
 "metadata": {
  "kernelspec": {
   "display_name": "Python 3",
   "language": "python",
   "name": "python3"
  },
  "language_info": {
   "codemirror_mode": {
    "name": "ipython",
    "version": 3
   },
   "file_extension": ".py",
   "mimetype": "text/x-python",
   "name": "python",
   "nbconvert_exporter": "python",
   "pygments_lexer": "ipython3",
   "version": "3.7.3"
  },
  "pycharm": {
   "stem_cell": {
    "cell_type": "raw",
    "source": [],
    "metadata": {
     "collapsed": false
    }
   }
  }
 },
 "nbformat": 4,
 "nbformat_minor": 2
}